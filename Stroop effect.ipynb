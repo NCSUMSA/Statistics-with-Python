{
 "cells": [
  {
   "cell_type": "code",
   "execution_count": 7,
   "metadata": {
    "collapsed": false
   },
   "outputs": [
    {
     "data": {
      "text/html": [
       "<div>\n",
       "<table border=\"1\" class=\"dataframe\">\n",
       "  <thead>\n",
       "    <tr style=\"text-align: right;\">\n",
       "      <th></th>\n",
       "      <th>count</th>\n",
       "      <th>mean</th>\n",
       "      <th>std</th>\n",
       "      <th>min</th>\n",
       "      <th>25%</th>\n",
       "      <th>50%</th>\n",
       "      <th>75%</th>\n",
       "      <th>max</th>\n",
       "    </tr>\n",
       "  </thead>\n",
       "  <tbody>\n",
       "    <tr>\n",
       "      <th>Congruent</th>\n",
       "      <td>24</td>\n",
       "      <td>14.051125</td>\n",
       "      <td>3.559358</td>\n",
       "      <td>8.630</td>\n",
       "      <td>11.89525</td>\n",
       "      <td>14.3565</td>\n",
       "      <td>16.20075</td>\n",
       "      <td>22.328</td>\n",
       "    </tr>\n",
       "    <tr>\n",
       "      <th>Incongruent</th>\n",
       "      <td>24</td>\n",
       "      <td>22.015917</td>\n",
       "      <td>4.797057</td>\n",
       "      <td>15.687</td>\n",
       "      <td>18.71675</td>\n",
       "      <td>21.0175</td>\n",
       "      <td>24.05150</td>\n",
       "      <td>35.255</td>\n",
       "    </tr>\n",
       "  </tbody>\n",
       "</table>\n",
       "</div>"
      ],
      "text/plain": [
       "             count       mean       std     min       25%      50%       75%  \\\n",
       "Congruent       24  14.051125  3.559358   8.630  11.89525  14.3565  16.20075   \n",
       "Incongruent     24  22.015917  4.797057  15.687  18.71675  21.0175  24.05150   \n",
       "\n",
       "                max  \n",
       "Congruent    22.328  \n",
       "Incongruent  35.255  "
      ]
     },
     "execution_count": 7,
     "metadata": {},
     "output_type": "execute_result"
    }
   ],
   "source": [
    "import pandas as pd\n",
    "import matplotlib.pyplot as plt\n",
    "from scipy.stats import ttest_ind\n",
    "%matplotlib inline\n",
    "\n",
    "df = pd.read_csv('stroopdata.csv')\n",
    "summary = df.describe()\n",
    "summary.transpose()\n",
    "\n"
   ]
  },
  {
   "cell_type": "code",
   "execution_count": 8,
   "metadata": {
    "collapsed": false
   },
   "outputs": [
    {
     "name": "stderr",
     "output_type": "stream",
     "text": [
      "/anaconda/lib/python2.7/site-packages/ipykernel/__main__.py:1: FutureWarning: \n",
      "The default value for 'return_type' will change to 'axes' in a future release.\n",
      " To use the future behavior now, set return_type='axes'.\n",
      " To keep the previous behavior and silence this warning, set return_type='dict'.\n",
      "  if __name__ == '__main__':\n"
     ]
    },
    {
     "data": {
      "text/plain": [
       "<matplotlib.text.Text at 0x10d286650>"
      ]
     },
     "execution_count": 8,
     "metadata": {},
     "output_type": "execute_result"
    },
    {
     "data": {
      "image/png": "[encoded data removed]",
      "text/plain": [
       "<matplotlib.figure.Figure at 0x10d04cfd0>"
      ]
     },
     "metadata": {},
     "output_type": "display_data"
    }
   ],
   "source": [
    "ax = df.boxplot()\n",
    "\n",
    "plt.title('Measuring time between two groups')\n"
   ]
  },
  {
   "cell_type": "code",
   "execution_count": 9,
   "metadata": {
    "collapsed": false
   },
   "outputs": [
    {
     "name": "stdout",
     "output_type": "stream",
     "text": [
      "t_stat  -6.5322505539\n",
      "P-value  4.5949489623e-08\n"
     ]
    }
   ],
   "source": [
    "t_stat, p_val = ttest_ind(df['Congruent'], df['Incongruent'])\n",
    "print \"t_stat \", t_stat\n",
    "print \"P-value \", p_val"
   ]
  },
  {
   "cell_type": "code",
   "execution_count": null,
   "metadata": {
    "collapsed": true
   },
   "outputs": [],
   "source": []
  }
 ],
 "metadata": {
  "kernelspec": {
   "display_name": "Python 2",
   "language": "python",
   "name": "python2"
  },
  "language_info": {
   "codemirror_mode": {
    "name": "ipython",
    "version": 2
   },
   "file_extension": ".py",
   "mimetype": "text/x-python",
   "name": "python",
   "nbconvert_exporter": "python",
   "pygments_lexer": "ipython2",
   "version": "2.7.11"
  }
 },
 "nbformat": 4,
 "nbformat_minor": 0
}
